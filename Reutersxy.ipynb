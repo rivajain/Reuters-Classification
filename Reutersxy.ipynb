{
 "cells": [
  {
   "cell_type": "code",
   "execution_count": 53,
   "id": "761d42bb-133b-4406-9b19-480e373a6489",
   "metadata": {},
   "outputs": [],
   "source": [
    "import numpy as np\n",
    "import pandas as pd\n",
    "import warnings \n",
    "import tensorflow as tf # import tensor flow \n",
    "import numpy as np\n",
    "import keras\n",
    "from tensorflow.keras import layers\n",
    "import matplotlib.pyplot as plt"
   ]
  },
  {
   "cell_type": "code",
   "execution_count": 54,
   "id": "03c2b7ac-f88f-4460-a6f5-3d7a7d61a1d7",
   "metadata": {},
   "outputs": [],
   "source": [
    "from tensorflow.keras.datasets import reuters\n",
    "(train_data, train_labels), (test_data, test_labels) = reuters.load_data(num_words=10000)"
   ]
  },
  {
   "cell_type": "code",
   "execution_count": 55,
   "id": "8efee777-02a2-4e25-a0c0-06bd7dcab465",
   "metadata": {},
   "outputs": [
    {
     "data": {
      "text/plain": [
       "(8982, 2246)"
      ]
     },
     "execution_count": 55,
     "metadata": {},
     "output_type": "execute_result"
    }
   ],
   "source": [
    "len(train_data),len(test_data)"
   ]
  },
  {
   "cell_type": "code",
   "execution_count": 56,
   "id": "fa3981bf-ee56-4406-89e2-194b04769287",
   "metadata": {},
   "outputs": [
    {
     "name": "stdout",
     "output_type": "stream",
     "text": [
      "[1, 245, 273, 207, 156, 53, 74, 160, 26, 14, 46, 296, 26, 39, 74, 2979, 3554, 14, 46, 4689, 4329, 86, 61, 3499, 4795, 14, 61, 451, 4329, 17, 12]\n"
     ]
    }
   ],
   "source": [
    "print(train_data[10])"
   ]
  },
  {
   "cell_type": "code",
   "execution_count": 57,
   "id": "a3474675-c1d7-4e3e-a69b-953dabb5df70",
   "metadata": {},
   "outputs": [
    {
     "name": "stdout",
     "output_type": "stream",
     "text": [
      "[1, 10, 37, 38, 2968, 2598, 103, 727, 27, 4, 37, 38, 1829, 3257, 8424, 8174, 23, 7, 4, 1150, 3213, 1195, 3252, 1873, 907, 69, 4, 3194, 5, 871, 410, 4, 1305, 5, 782, 37, 38, 173, 8, 145, 51, 3471, 176, 6412, 2, 8, 24, 1122, 4, 3426, 829, 857, 34, 7, 4, 1507, 299, 45, 1536, 4, 214, 212, 34, 6442, 10, 73, 3158, 6, 782, 112, 9780, 2339, 21, 871, 7, 4, 6942, 403, 1801, 849, 24, 40, 4646, 36, 8, 129, 2044, 23, 370, 1757, 36, 8, 24, 4, 8424, 8174, 23, 374, 7, 42, 654, 696, 16, 2718, 535, 890, 1119, 890, 7, 4, 2429, 696, 890, 8225, 6, 30, 890, 85, 144, 13, 117, 10, 139, 4, 8424, 8174, 9, 25, 857, 5, 6732, 23, 4, 8449, 5, 4, 37, 38, 2193, 3575, 2598, 103, 50, 2, 10, 5850, 654, 3875, 22, 4, 2193, 2, 250, 4, 3213, 1195, 31, 4, 8424, 8174, 9, 25, 103, 7, 4, 3213, 1195, 6, 4, 354, 9, 4, 37, 38, 3727, 5943, 857, 7, 4, 6942, 403, 6, 4, 681, 4, 214, 212, 40, 83, 2961, 21, 1196, 153, 5, 4, 1721, 8281, 5, 3947, 4, 3471, 43, 23, 25, 7522, 487, 6, 4376, 4, 4012, 2, 5, 4, 1094, 58, 432, 77, 62, 84, 6, 278, 213, 173, 1950, 907, 69, 4, 3194, 5, 1094, 6826, 250, 4, 8281, 21, 4, 3301, 65, 373, 1244, 6, 4, 403, 782, 40, 3691, 2622, 2339, 21, 871, 7, 4, 403, 9, 37, 38, 173, 57, 8, 24, 2, 40, 759, 2, 1470, 31, 4442, 1636, 9, 1979, 170, 1696, 1420, 2322, 2, 10, 1062, 2096, 17, 12]\n"
     ]
    }
   ],
   "source": [
    "print(test_data[1000])"
   ]
  },
  {
   "cell_type": "code",
   "execution_count": 58,
   "id": "af61722f-14ca-4878-aca5-8f56f5422c6b",
   "metadata": {},
   "outputs": [],
   "source": [
    "word_index = reuters.get_word_index()\n",
    "reverse_word_index = dict([(value, key) for (key, value) in word_index.items()])\n",
    "decoded_newswire = ' '.join([reverse_word_index.get(i - 3, '?') for i in\n",
    "    train_data[0]])"
   ]
  },
  {
   "cell_type": "code",
   "execution_count": 59,
   "id": "3b3b54a5-0850-4628-9d7b-374282d94d54",
   "metadata": {},
   "outputs": [
    {
     "data": {
      "text/plain": [
       "3"
      ]
     },
     "execution_count": 59,
     "metadata": {},
     "output_type": "execute_result"
    }
   ],
   "source": [
    "train_labels[10]"
   ]
  },
  {
   "cell_type": "code",
   "execution_count": 60,
   "id": "8f8624b9-37d3-4874-819c-50ad4d8e6150",
   "metadata": {},
   "outputs": [],
   "source": [
    "def vectorize_sequences(sequences, dimension=10000):\n",
    "    results = np.zeros((len(sequences), dimension))\n",
    "    for i, sequence in enumerate(sequences):\n",
    "        results[i, sequence] = 1.\n",
    "    return results\n",
    "x_train = vectorize_sequences(train_data)#1\n",
    "x_test = vectorize_sequences(test_data)#2"
   ]
  },
  {
   "cell_type": "code",
   "execution_count": 61,
   "id": "619652c3-68a4-4d76-8844-216e7102089a",
   "metadata": {},
   "outputs": [],
   "source": [
    "def to_one_hot(labels, dimension=46):\n",
    "    results = np.zeros((len(labels), dimension))\n",
    "    for i, label in enumerate(labels):\n",
    "        results[i, label] = 1.\n",
    "    return results\n",
    "one_hot_train_labels = to_one_hot(train_labels)#1\n",
    "one_hot_test_labels = to_one_hot(test_labels)#2"
   ]
  },
  {
   "cell_type": "code",
   "execution_count": 62,
   "id": "85835f4b-6d97-4f19-aa93-b73233f1b861",
   "metadata": {},
   "outputs": [],
   "source": [
    "from tensorflow.keras.utils import to_categorical\n",
    "one_hot_train_labels = to_categorical(train_labels)\n",
    "one_hot_test_labels = to_categorical(test_labels)"
   ]
  },
  {
   "cell_type": "code",
   "execution_count": 63,
   "id": "e0c3c824-628f-447f-a43e-87bb8ecdb1b1",
   "metadata": {},
   "outputs": [],
   "source": [
    "model = keras.Sequential([\n",
    "  layers.Dense(64, activation='relu'),\n",
    "  layers.Dense(64, activation='relu'),\n",
    "  layers.Dense(46, activation='softmax')\n",
    "])"
   ]
  },
  {
   "cell_type": "code",
   "execution_count": 64,
   "id": "7aeef8aa-4eb0-4af7-ac0a-ae908739b095",
   "metadata": {},
   "outputs": [],
   "source": [
    " model.compile(optimizer='rmsprop',\n",
    "              loss='categorical_crossentropy',\n",
    "              metrics=['accuracy'])"
   ]
  },
  {
   "cell_type": "code",
   "execution_count": 65,
   "id": "eb7a84e5-244b-4bfb-9ff0-5450c7277795",
   "metadata": {},
   "outputs": [],
   "source": [
    "x_val = x_train[:1000]\n",
    "partial_x_train = x_train[1000:]\n",
    "y_val = one_hot_train_labels[:1000]\n",
    "partial_y_train = one_hot_train_labels[1000:]"
   ]
  },
  {
   "cell_type": "code",
   "execution_count": 66,
   "id": "6e35de0a-2fbf-4f7f-9b50-b72ab74994b6",
   "metadata": {},
   "outputs": [
    {
     "name": "stdout",
     "output_type": "stream",
     "text": [
      "Epoch 1/20\n",
      "16/16 [==============================] - 3s 65ms/step - loss: 2.7107 - accuracy: 0.4817 - val_loss: 1.8310 - val_accuracy: 0.5940\n",
      "Epoch 2/20\n",
      "16/16 [==============================] - 0s 27ms/step - loss: 1.5562 - accuracy: 0.6594 - val_loss: 1.3783 - val_accuracy: 0.6910\n",
      "Epoch 3/20\n",
      "16/16 [==============================] - 0s 21ms/step - loss: 1.1932 - accuracy: 0.7378 - val_loss: 1.1961 - val_accuracy: 0.7360\n",
      "Epoch 4/20\n",
      "16/16 [==============================] - 0s 25ms/step - loss: 0.9786 - accuracy: 0.7859 - val_loss: 1.0908 - val_accuracy: 0.7590\n",
      "Epoch 5/20\n",
      "16/16 [==============================] - 0s 25ms/step - loss: 0.8108 - accuracy: 0.8225 - val_loss: 1.0201 - val_accuracy: 0.7860\n",
      "Epoch 6/20\n",
      "16/16 [==============================] - 0s 26ms/step - loss: 0.6813 - accuracy: 0.8549 - val_loss: 0.9582 - val_accuracy: 0.7980\n",
      "Epoch 7/20\n",
      "16/16 [==============================] - 0s 28ms/step - loss: 0.5662 - accuracy: 0.8794 - val_loss: 0.9135 - val_accuracy: 0.8000\n",
      "Epoch 8/20\n",
      "16/16 [==============================] - 0s 26ms/step - loss: 0.4772 - accuracy: 0.8989 - val_loss: 0.9047 - val_accuracy: 0.8030\n",
      "Epoch 9/20\n",
      "16/16 [==============================] - 0s 26ms/step - loss: 0.3997 - accuracy: 0.9159 - val_loss: 0.9197 - val_accuracy: 0.7960\n",
      "Epoch 10/20\n",
      "16/16 [==============================] - 0s 21ms/step - loss: 0.3468 - accuracy: 0.9267 - val_loss: 0.8830 - val_accuracy: 0.8080\n",
      "Epoch 11/20\n",
      "16/16 [==============================] - 0s 21ms/step - loss: 0.2924 - accuracy: 0.9341 - val_loss: 0.9014 - val_accuracy: 0.8040\n",
      "Epoch 12/20\n",
      "16/16 [==============================] - 0s 26ms/step - loss: 0.2636 - accuracy: 0.9417 - val_loss: 0.8607 - val_accuracy: 0.8220\n",
      "Epoch 13/20\n",
      "16/16 [==============================] - 0s 24ms/step - loss: 0.2249 - accuracy: 0.9464 - val_loss: 0.8767 - val_accuracy: 0.8230\n",
      "Epoch 14/20\n",
      "16/16 [==============================] - 0s 21ms/step - loss: 0.2102 - accuracy: 0.9476 - val_loss: 0.8818 - val_accuracy: 0.8150\n",
      "Epoch 15/20\n",
      "16/16 [==============================] - 0s 19ms/step - loss: 0.1862 - accuracy: 0.9505 - val_loss: 0.9252 - val_accuracy: 0.8090\n",
      "Epoch 16/20\n",
      "16/16 [==============================] - 0s 19ms/step - loss: 0.1759 - accuracy: 0.9526 - val_loss: 0.8883 - val_accuracy: 0.8190\n",
      "Epoch 17/20\n",
      "16/16 [==============================] - 0s 29ms/step - loss: 0.1598 - accuracy: 0.9540 - val_loss: 0.9348 - val_accuracy: 0.8040\n",
      "Epoch 18/20\n",
      "16/16 [==============================] - 0s 24ms/step - loss: 0.1494 - accuracy: 0.9554 - val_loss: 0.9549 - val_accuracy: 0.8160\n",
      "Epoch 19/20\n",
      "16/16 [==============================] - 0s 22ms/step - loss: 0.1468 - accuracy: 0.9557 - val_loss: 0.9671 - val_accuracy: 0.8030\n",
      "Epoch 20/20\n",
      "16/16 [==============================] - 0s 20ms/step - loss: 0.1357 - accuracy: 0.9558 - val_loss: 0.9287 - val_accuracy: 0.8140\n"
     ]
    }
   ],
   "source": [
    "history = model.fit(partial_x_train,\n",
    "                    partial_y_train,\n",
    "                    epochs=20,\n",
    "                    batch_size=512,\n",
    "                    validation_data=(x_val, y_val))"
   ]
  },
  {
   "cell_type": "code",
   "execution_count": 67,
   "id": "8e97b642-a736-4df7-9723-0c2cde74c5b9",
   "metadata": {},
   "outputs": [
    {
     "data": {
      "image/png": "[encoded data removed]",
      "text/plain": [
       "<Figure size 640x480 with 1 Axes>"
      ]
     },
     "metadata": {},
     "output_type": "display_data"
    }
   ],
   "source": [
    "loss = history.history['loss']\n",
    "val_loss = history.history['val_loss']\n",
    "epochs = range(1, len(loss) + 1)\n",
    "plt.plot(epochs, loss, 'bo', label='Training loss')\n",
    "plt.plot(epochs, val_loss, 'r', label='Validation loss')\n",
    "plt.title('Training and validation loss')\n",
    "plt.xlabel('Epochs')\n",
    "plt.ylabel('Loss')\n",
    "plt.legend()\n",
    "plt.show()"
   ]
  },
  {
   "cell_type": "code",
   "execution_count": 68,
   "id": "d5efc8c8-2828-49ab-98a6-5854546b32ce",
   "metadata": {},
   "outputs": [
    {
     "data": {
      "image/png": "[encoded data removed]",
      "text/plain": [
       "<Figure size 640x480 with 1 Axes>"
      ]
     },
     "metadata": {},
     "output_type": "display_data"
    }
   ],
   "source": [
    "plt.clf()\n",
    "acc = history.history['accuracy']\n",
    "val_acc = history.history['val_accuracy']\n",
    "plt.plot(epochs, acc, 'bo', label='Training accuracy')\n",
    "plt.plot(epochs, val_acc, 'r', label='Validation accuracy')\n",
    "plt.title('Training and validation accuracy')\n",
    "plt.xlabel('Epochs')\n",
    "plt.ylabel('Accuracy')\n",
    "plt.legend()\n",
    "plt.show()"
   ]
  },
  {
   "cell_type": "code",
   "execution_count": 69,
   "id": "62a8cdef-79bc-4289-a2fc-a035ab248f24",
   "metadata": {},
   "outputs": [
    {
     "name": "stdout",
     "output_type": "stream",
     "text": [
      "Epoch 1/10\n",
      "16/16 [==============================] - 3s 68ms/step - loss: 2.7591 - accuracy: 0.4731 - val_loss: 1.8417 - val_accuracy: 0.6080\n",
      "Epoch 2/10\n",
      "16/16 [==============================] - 0s 27ms/step - loss: 1.5591 - accuracy: 0.6761 - val_loss: 1.3885 - val_accuracy: 0.6780\n",
      "Epoch 3/10\n",
      "16/16 [==============================] - 0s 23ms/step - loss: 1.1850 - accuracy: 0.7459 - val_loss: 1.2021 - val_accuracy: 0.7320\n",
      "Epoch 4/10\n",
      "16/16 [==============================] - 0s 23ms/step - loss: 0.9640 - accuracy: 0.7965 - val_loss: 1.0839 - val_accuracy: 0.7870\n",
      "Epoch 5/10\n",
      "16/16 [==============================] - 0s 24ms/step - loss: 0.7990 - accuracy: 0.8324 - val_loss: 1.0188 - val_accuracy: 0.7880\n",
      "Epoch 6/10\n",
      "16/16 [==============================] - 0s 24ms/step - loss: 0.6678 - accuracy: 0.8603 - val_loss: 0.9624 - val_accuracy: 0.7880\n",
      "Epoch 7/10\n",
      "16/16 [==============================] - 0s 22ms/step - loss: 0.5616 - accuracy: 0.8822 - val_loss: 0.9373 - val_accuracy: 0.7980\n",
      "Epoch 8/10\n",
      "16/16 [==============================] - 1s 32ms/step - loss: 0.4757 - accuracy: 0.9003 - val_loss: 0.8956 - val_accuracy: 0.8040\n",
      "Epoch 9/10\n",
      "16/16 [==============================] - 0s 28ms/step - loss: 0.4011 - accuracy: 0.9159 - val_loss: 0.8795 - val_accuracy: 0.8140\n",
      "Epoch 10/10\n",
      "16/16 [==============================] - 0s 28ms/step - loss: 0.3445 - accuracy: 0.9278 - val_loss: 0.8790 - val_accuracy: 0.8200\n",
      "71/71 [==============================] - 0s 4ms/step - loss: 0.9513 - accuracy: 0.7867\n"
     ]
    }
   ],
   "source": [
    "model = keras.Sequential([\n",
    "  layers.Dense(64, activation='relu'),\n",
    "  layers.Dense(64, activation='relu'),\n",
    "  layers.Dense(46, activation='softmax')\n",
    "])\n",
    "model.compile(optimizer='rmsprop',\n",
    "              loss='categorical_crossentropy',\n",
    "              metrics=['accuracy'])\n",
    "model.fit(partial_x_train,\n",
    "          partial_y_train,\n",
    "          epochs=10,\n",
    "          batch_size=512,\n",
    "          validation_data=(x_val, y_val))\n",
    "results = model.evaluate(x_test, one_hot_test_labels)"
   ]
  },
  {
   "cell_type": "code",
   "execution_count": 70,
   "id": "a6a15ba0-318b-4518-afd5-9810722b6afe",
   "metadata": {},
   "outputs": [
    {
     "data": {
      "text/plain": [
       "[0.9512938261032104, 0.7867319583892822]"
      ]
     },
     "execution_count": 70,
     "metadata": {},
     "output_type": "execute_result"
    }
   ],
   "source": [
    "results"
   ]
  },
  {
   "cell_type": "code",
   "execution_count": 71,
   "id": "d7f57ae7-401a-4114-9d21-7b5b238fb071",
   "metadata": {},
   "outputs": [
    {
     "data": {
      "text/plain": [
       "0.1861086375779163"
      ]
     },
     "execution_count": 71,
     "metadata": {},
     "output_type": "execute_result"
    }
   ],
   "source": [
    "import copy\n",
    "test_labels_copy = copy.copy(test_labels)\n",
    "np.random.shuffle(test_labels_copy)\n",
    "hits_array = np.array(test_labels) == np.array(test_labels_copy)\n",
    "float(np.sum(hits_array))/len(test_labels)"
   ]
  },
  {
   "cell_type": "code",
   "execution_count": 72,
   "id": "af06708d-f98f-4cb1-a3a9-f58da1661a0c",
   "metadata": {},
   "outputs": [
    {
     "name": "stdout",
     "output_type": "stream",
     "text": [
      "71/71 [==============================] - 1s 5ms/step\n"
     ]
    }
   ],
   "source": [
    " predictions = model.predict(x_test)"
   ]
  },
  {
   "cell_type": "code",
   "execution_count": 74,
   "id": "20692811-70f1-4316-a26c-977d10e43ba6",
   "metadata": {},
   "outputs": [
    {
     "data": {
      "text/plain": [
       "(46,)"
      ]
     },
     "execution_count": 74,
     "metadata": {},
     "output_type": "execute_result"
    }
   ],
   "source": [
    "predictions[0].shape"
   ]
  },
  {
   "cell_type": "code",
   "execution_count": 75,
   "id": "52480e6b-4242-4217-810b-3c99e26f436f",
   "metadata": {},
   "outputs": [
    {
     "data": {
      "text/plain": [
       "1.0000002"
      ]
     },
     "execution_count": 75,
     "metadata": {},
     "output_type": "execute_result"
    }
   ],
   "source": [
    "np.sum(predictions[0])"
   ]
  },
  {
   "cell_type": "code",
   "execution_count": 76,
   "id": "c8ec59e2-8791-40f5-8d88-14503b5972c7",
   "metadata": {},
   "outputs": [
    {
     "data": {
      "text/plain": [
       "3"
      ]
     },
     "execution_count": 76,
     "metadata": {},
     "output_type": "execute_result"
    }
   ],
   "source": [
    "np.argmax(predictions[0])"
   ]
  },
  {
   "cell_type": "code",
   "execution_count": null,
   "id": "8d77b0f6-a037-4253-a0b7-7a41df8fa107",
   "metadata": {},
   "outputs": [],
   "source": []
  }
 ],
 "metadata": {
  "kernelspec": {
   "display_name": "Python 3 (ipykernel)",
   "language": "python",
   "name": "python3"
  },
  "language_info": {
   "codemirror_mode": {
    "name": "ipython",
    "version": 3
   },
   "file_extension": ".py",
   "mimetype": "text/x-python",
   "name": "python",
   "nbconvert_exporter": "python",
   "pygments_lexer": "ipython3",
   "version": "3.11.7"
  }
 },
 "nbformat": 4,
 "nbformat_minor": 5
}
